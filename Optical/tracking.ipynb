{
 "cells": [
  {
   "cell_type": "code",
   "execution_count": 2,
   "metadata": {},
   "outputs": [],
   "source": [
    "from __future__ import print_function\n",
    "\n",
    "import os\n",
    "import numpy as np\n",
    "from skimage import filters\n",
    "from skimage.feature import corner_peaks\n",
    "import matplotlib.pyplot as plt\n",
    "from matplotlib import rc\n",
    "from IPython.display import HTML\n",
    "from skimage import img_as_float\n",
    "from skimage.io import imread\n",
    "from matplotlib import animation\n",
    "\n",
    "%matplotlib inline\n",
    "plt.rcParams['image.interpolation'] = 'nearest'\n",
    "plt.rcParams['image.cmap'] = 'gray'\n",
    "\n",
    "# for auto-reloading extenrnal modules\n",
    "%load_ext autoreload\n",
    "%autoreload 2"
   ]
  },
  {
   "cell_type": "code",
   "execution_count": 7,
   "metadata": {
    "scrolled": true
   },
   "outputs": [
    {
     "ename": "ValueError",
     "evalue": "Could not find a format to read the specified file in mode 'i'",
     "output_type": "error",
     "traceback": [
      "\u001b[0;31m---------------------------------------------------------------------------\u001b[0m",
      "\u001b[0;31mValueError\u001b[0m                                Traceback (most recent call last)",
      "\u001b[0;32m<ipython-input-7-6b7880f5ab07>\u001b[0m in \u001b[0;36m<module>\u001b[0;34m\u001b[0m\n\u001b[1;32m     15\u001b[0m     \u001b[0;32mreturn\u001b[0m \u001b[0mani\u001b[0m\u001b[0;34m\u001b[0m\u001b[0;34m\u001b[0m\u001b[0m\n\u001b[1;32m     16\u001b[0m \u001b[0;34m\u001b[0m\u001b[0m\n\u001b[0;32m---> 17\u001b[0;31m \u001b[0mani\u001b[0m \u001b[0;34m=\u001b[0m \u001b[0mload_frames\u001b[0m\u001b[0;34m(\u001b[0m\u001b[0;34m'img'\u001b[0m\u001b[0;34m)\u001b[0m\u001b[0;34m\u001b[0m\u001b[0;34m\u001b[0m\u001b[0m\n\u001b[0m\u001b[1;32m     18\u001b[0m \u001b[0mHTML\u001b[0m\u001b[0;34m(\u001b[0m\u001b[0mani\u001b[0m\u001b[0;34m.\u001b[0m\u001b[0mto_html5_video\u001b[0m\u001b[0;34m(\u001b[0m\u001b[0;34m)\u001b[0m\u001b[0;34m)\u001b[0m\u001b[0;34m\u001b[0m\u001b[0;34m\u001b[0m\u001b[0m\n\u001b[1;32m     19\u001b[0m \u001b[0;34m\u001b[0m\u001b[0m\n",
      "\u001b[0;32m<ipython-input-7-6b7880f5ab07>\u001b[0m in \u001b[0;36mload_frames\u001b[0;34m(imgs_dir)\u001b[0m\n\u001b[1;32m      2\u001b[0m     frames = [img_as_float(imread(os.path.join(imgs_dir, frame), \n\u001b[1;32m      3\u001b[0m                                                as_grey=True)) \\\n\u001b[0;32m----> 4\u001b[0;31m               for frame in sorted(os.listdir(imgs_dir))]\n\u001b[0m\u001b[1;32m      5\u001b[0m \u001b[0;34m\u001b[0m\u001b[0m\n\u001b[1;32m      6\u001b[0m     \u001b[0mfig\u001b[0m\u001b[0;34m,\u001b[0m\u001b[0max\u001b[0m\u001b[0;34m=\u001b[0m\u001b[0mplt\u001b[0m\u001b[0;34m.\u001b[0m\u001b[0msubplots\u001b[0m\u001b[0;34m(\u001b[0m\u001b[0mfigsize\u001b[0m\u001b[0;34m=\u001b[0m\u001b[0;34m(\u001b[0m\u001b[0;36m10\u001b[0m\u001b[0;34m,\u001b[0m\u001b[0;36m8\u001b[0m\u001b[0;34m)\u001b[0m\u001b[0;34m)\u001b[0m\u001b[0;34m\u001b[0m\u001b[0;34m\u001b[0m\u001b[0m\n",
      "\u001b[0;32m<ipython-input-7-6b7880f5ab07>\u001b[0m in \u001b[0;36m<listcomp>\u001b[0;34m(.0)\u001b[0m\n\u001b[1;32m      2\u001b[0m     frames = [img_as_float(imread(os.path.join(imgs_dir, frame), \n\u001b[1;32m      3\u001b[0m                                                as_grey=True)) \\\n\u001b[0;32m----> 4\u001b[0;31m               for frame in sorted(os.listdir(imgs_dir))]\n\u001b[0m\u001b[1;32m      5\u001b[0m \u001b[0;34m\u001b[0m\u001b[0m\n\u001b[1;32m      6\u001b[0m     \u001b[0mfig\u001b[0m\u001b[0;34m,\u001b[0m\u001b[0max\u001b[0m\u001b[0;34m=\u001b[0m\u001b[0mplt\u001b[0m\u001b[0;34m.\u001b[0m\u001b[0msubplots\u001b[0m\u001b[0;34m(\u001b[0m\u001b[0mfigsize\u001b[0m\u001b[0;34m=\u001b[0m\u001b[0;34m(\u001b[0m\u001b[0;36m10\u001b[0m\u001b[0;34m,\u001b[0m\u001b[0;36m8\u001b[0m\u001b[0;34m)\u001b[0m\u001b[0;34m)\u001b[0m\u001b[0;34m\u001b[0m\u001b[0;34m\u001b[0m\u001b[0m\n",
      "\u001b[0;32m/opt/anaconda3/lib/python3.7/site-packages/skimage/io/_io.py\u001b[0m in \u001b[0;36mimread\u001b[0;34m(fname, as_gray, plugin, **plugin_args)\u001b[0m\n\u001b[1;32m     46\u001b[0m \u001b[0;34m\u001b[0m\u001b[0m\n\u001b[1;32m     47\u001b[0m     \u001b[0;32mwith\u001b[0m \u001b[0mfile_or_url_context\u001b[0m\u001b[0;34m(\u001b[0m\u001b[0mfname\u001b[0m\u001b[0;34m)\u001b[0m \u001b[0;32mas\u001b[0m \u001b[0mfname\u001b[0m\u001b[0;34m:\u001b[0m\u001b[0;34m\u001b[0m\u001b[0;34m\u001b[0m\u001b[0m\n\u001b[0;32m---> 48\u001b[0;31m         \u001b[0mimg\u001b[0m \u001b[0;34m=\u001b[0m \u001b[0mcall_plugin\u001b[0m\u001b[0;34m(\u001b[0m\u001b[0;34m'imread'\u001b[0m\u001b[0;34m,\u001b[0m \u001b[0mfname\u001b[0m\u001b[0;34m,\u001b[0m \u001b[0mplugin\u001b[0m\u001b[0;34m=\u001b[0m\u001b[0mplugin\u001b[0m\u001b[0;34m,\u001b[0m \u001b[0;34m**\u001b[0m\u001b[0mplugin_args\u001b[0m\u001b[0;34m)\u001b[0m\u001b[0;34m\u001b[0m\u001b[0;34m\u001b[0m\u001b[0m\n\u001b[0m\u001b[1;32m     49\u001b[0m \u001b[0;34m\u001b[0m\u001b[0m\n\u001b[1;32m     50\u001b[0m     \u001b[0;32mif\u001b[0m \u001b[0;32mnot\u001b[0m \u001b[0mhasattr\u001b[0m\u001b[0;34m(\u001b[0m\u001b[0mimg\u001b[0m\u001b[0;34m,\u001b[0m \u001b[0;34m'ndim'\u001b[0m\u001b[0;34m)\u001b[0m\u001b[0;34m:\u001b[0m\u001b[0;34m\u001b[0m\u001b[0;34m\u001b[0m\u001b[0m\n",
      "\u001b[0;32m/opt/anaconda3/lib/python3.7/site-packages/skimage/io/manage_plugins.py\u001b[0m in \u001b[0;36mcall_plugin\u001b[0;34m(kind, *args, **kwargs)\u001b[0m\n\u001b[1;32m    208\u001b[0m                                (plugin, kind))\n\u001b[1;32m    209\u001b[0m \u001b[0;34m\u001b[0m\u001b[0m\n\u001b[0;32m--> 210\u001b[0;31m     \u001b[0;32mreturn\u001b[0m \u001b[0mfunc\u001b[0m\u001b[0;34m(\u001b[0m\u001b[0;34m*\u001b[0m\u001b[0margs\u001b[0m\u001b[0;34m,\u001b[0m \u001b[0;34m**\u001b[0m\u001b[0mkwargs\u001b[0m\u001b[0;34m)\u001b[0m\u001b[0;34m\u001b[0m\u001b[0;34m\u001b[0m\u001b[0m\n\u001b[0m\u001b[1;32m    211\u001b[0m \u001b[0;34m\u001b[0m\u001b[0m\n\u001b[1;32m    212\u001b[0m \u001b[0;34m\u001b[0m\u001b[0m\n",
      "\u001b[0;32m/opt/anaconda3/lib/python3.7/site-packages/skimage/io/_plugins/imageio_plugin.py\u001b[0m in \u001b[0;36mimread\u001b[0;34m(*args, **kwargs)\u001b[0m\n\u001b[1;32m      8\u001b[0m \u001b[0;34m@\u001b[0m\u001b[0mwraps\u001b[0m\u001b[0;34m(\u001b[0m\u001b[0mimageio_imread\u001b[0m\u001b[0;34m)\u001b[0m\u001b[0;34m\u001b[0m\u001b[0;34m\u001b[0m\u001b[0m\n\u001b[1;32m      9\u001b[0m \u001b[0;32mdef\u001b[0m \u001b[0mimread\u001b[0m\u001b[0;34m(\u001b[0m\u001b[0;34m*\u001b[0m\u001b[0margs\u001b[0m\u001b[0;34m,\u001b[0m \u001b[0;34m**\u001b[0m\u001b[0mkwargs\u001b[0m\u001b[0;34m)\u001b[0m\u001b[0;34m:\u001b[0m\u001b[0;34m\u001b[0m\u001b[0;34m\u001b[0m\u001b[0m\n\u001b[0;32m---> 10\u001b[0;31m     \u001b[0;32mreturn\u001b[0m \u001b[0mnp\u001b[0m\u001b[0;34m.\u001b[0m\u001b[0masarray\u001b[0m\u001b[0;34m(\u001b[0m\u001b[0mimageio_imread\u001b[0m\u001b[0;34m(\u001b[0m\u001b[0;34m*\u001b[0m\u001b[0margs\u001b[0m\u001b[0;34m,\u001b[0m \u001b[0;34m**\u001b[0m\u001b[0mkwargs\u001b[0m\u001b[0;34m)\u001b[0m\u001b[0;34m)\u001b[0m\u001b[0;34m\u001b[0m\u001b[0;34m\u001b[0m\u001b[0m\n\u001b[0m",
      "\u001b[0;32m/opt/anaconda3/lib/python3.7/site-packages/imageio/core/functions.py\u001b[0m in \u001b[0;36mimread\u001b[0;34m(uri, format, **kwargs)\u001b[0m\n\u001b[1;32m    219\u001b[0m \u001b[0;34m\u001b[0m\u001b[0m\n\u001b[1;32m    220\u001b[0m     \u001b[0;31m# Get reader and read first\u001b[0m\u001b[0;34m\u001b[0m\u001b[0;34m\u001b[0m\u001b[0;34m\u001b[0m\u001b[0m\n\u001b[0;32m--> 221\u001b[0;31m     \u001b[0mreader\u001b[0m \u001b[0;34m=\u001b[0m \u001b[0mread\u001b[0m\u001b[0;34m(\u001b[0m\u001b[0muri\u001b[0m\u001b[0;34m,\u001b[0m \u001b[0mformat\u001b[0m\u001b[0;34m,\u001b[0m \u001b[0;34m\"i\"\u001b[0m\u001b[0;34m,\u001b[0m \u001b[0;34m**\u001b[0m\u001b[0mkwargs\u001b[0m\u001b[0;34m)\u001b[0m\u001b[0;34m\u001b[0m\u001b[0;34m\u001b[0m\u001b[0m\n\u001b[0m\u001b[1;32m    222\u001b[0m     \u001b[0;32mwith\u001b[0m \u001b[0mreader\u001b[0m\u001b[0;34m:\u001b[0m\u001b[0;34m\u001b[0m\u001b[0;34m\u001b[0m\u001b[0m\n\u001b[1;32m    223\u001b[0m         \u001b[0;32mreturn\u001b[0m \u001b[0mreader\u001b[0m\u001b[0;34m.\u001b[0m\u001b[0mget_data\u001b[0m\u001b[0;34m(\u001b[0m\u001b[0;36m0\u001b[0m\u001b[0;34m)\u001b[0m\u001b[0;34m\u001b[0m\u001b[0;34m\u001b[0m\u001b[0m\n",
      "\u001b[0;32m/opt/anaconda3/lib/python3.7/site-packages/imageio/core/functions.py\u001b[0m in \u001b[0;36mget_reader\u001b[0;34m(uri, format, mode, **kwargs)\u001b[0m\n\u001b[1;32m    137\u001b[0m     \u001b[0;32mif\u001b[0m \u001b[0mformat\u001b[0m \u001b[0;32mis\u001b[0m \u001b[0;32mNone\u001b[0m\u001b[0;34m:\u001b[0m\u001b[0;34m\u001b[0m\u001b[0;34m\u001b[0m\u001b[0m\n\u001b[1;32m    138\u001b[0m         raise ValueError(\n\u001b[0;32m--> 139\u001b[0;31m             \u001b[0;34m\"Could not find a format to read the specified file \"\u001b[0m \u001b[0;34m\"in mode %r\"\u001b[0m \u001b[0;34m%\u001b[0m \u001b[0mmode\u001b[0m\u001b[0;34m\u001b[0m\u001b[0;34m\u001b[0m\u001b[0m\n\u001b[0m\u001b[1;32m    140\u001b[0m         )\n\u001b[1;32m    141\u001b[0m \u001b[0;34m\u001b[0m\u001b[0m\n",
      "\u001b[0;31mValueError\u001b[0m: Could not find a format to read the specified file in mode 'i'"
     ]
    }
   ],
   "source": [
    "def load_frames(imgs_dir):\n",
    "    frames = [img_as_float(imread(os.path.join(imgs_dir, frame), \n",
    "                                               as_grey=True)) \\\n",
    "              for frame in sorted(os.listdir(imgs_dir))]\n",
    "\n",
    "    fig,ax=plt.subplots(figsize=(10,8))\n",
    "    ax.axis('off')\n",
    "    im = ax.imshow(frames[0])\n",
    "    \n",
    "    def animate(i):\n",
    "        im.set_array(frames[i])\n",
    "        return [im,]      \n",
    "    \n",
    "    ani = animation.FuncAnimation(fig,animate,frames=len(frames),interval=50,blit=True)\n",
    "    return ani\n",
    "\n",
    "ani = load_frames('imgs')\n",
    "HTML(ani.to_html5_video())                                                                                            \n",
    "                                                                                             "
   ]
  },
  {
   "cell_type": "markdown",
   "metadata": {},
   "source": [
    "# 0. pre-processing \n",
    "\n",
    "using high-pass(guassian) filter to make an image appear sharper.\n"
   ]
  },
  {
   "cell_type": "markdown",
   "metadata": {},
   "source": [
    "## 1.1 lucas-kanade method for optical flow, \n",
    "\n",
    "the equation of the  intensity of one point between two consecutive pictures$ I(x,y)=I(x +\\Delta x,y+\\Delta y,t+\\Delta t)$\n",
    " which is equal to the derivative to t: $\\frac{\\partial I}{\\partial x} v_{x}+\\frac{\\partial I}{\\partial y} v_{y}+\\frac{\\partial I}{\\partial t} =0$\n",
    " \n",
    " we apply this for each pixel:$I_{x}\\left(p_{i}\\right) v_{x}+I_{y}\\left(p_{i}\\right) v_{y}=-I_{t}\\left(p_{i}\\right)$\n",
    " \n",
    " $$\n",
    "A=\\left[\\begin{array}{cc}\n",
    "I_{x}\\left(p_{1}\\right) & I_{y}\\left(p_{1}\\right) \\\\\n",
    "I_{x}\\left(p_{2}\\right) & I_{y}\\left(p_{2}\\right) \\\\\n",
    "\\vdots & \\vdots \\\\\n",
    "I_{x}\\left(p_{n}\\right) & I_{y}\\left(p_{n}\\right)\n",
    "\\end{array}\\right] \\quad v=\\left[\\begin{array}{c}\n",
    "v_{x} \\\\\n",
    "v_{y}\n",
    "\\end{array}\\right] \\quad b=\\left[\\begin{array}{c}\n",
    "-I_{t}\\left(p_{1}\\right) \\\\\n",
    "-I_{t}\\left(p_{2}\\right) \\\\\n",
    "\\vdots \\\\\n",
    "-I_{t}\\left(p_{n}\\right)\n",
    "\\end{array}\\right]\n",
    "$$\n",
    "We can now solve for the flow vectors (now represented as $v$ ) by solving the following least-square problem:\n",
    "\n",
    "$A^{T} A v=A^{T} b$.\n",
    "\n",
    "\n",
    "## 1.2 harris corner detector using\n",
    "\n"
   ]
  },
  {
   "cell_type": "code",
   "execution_count": 11,
   "metadata": {},
   "outputs": [
    {
     "ename": "NameError",
     "evalue": "name 'frames' is not defined",
     "output_type": "error",
     "traceback": [
      "\u001b[0;31m---------------------------------------------------------------------------\u001b[0m",
      "\u001b[0;31mNameError\u001b[0m                                 Traceback (most recent call last)",
      "\u001b[0;32m<ipython-input-11-954787e2f22f>\u001b[0m in \u001b[0;36m<module>\u001b[0;34m\u001b[0m\n\u001b[1;32m      2\u001b[0m \u001b[0;32mfrom\u001b[0m \u001b[0mskimage\u001b[0m\u001b[0;34m.\u001b[0m\u001b[0mfeature\u001b[0m \u001b[0;32mimport\u001b[0m \u001b[0mcorner_harris\u001b[0m\u001b[0;34m,\u001b[0m \u001b[0mcorner_peaks\u001b[0m\u001b[0;34m\u001b[0m\u001b[0;34m\u001b[0m\u001b[0m\n\u001b[1;32m      3\u001b[0m \u001b[0;34m\u001b[0m\u001b[0m\n\u001b[0;32m----> 4\u001b[0;31m keypoints = corner_peaks(corner_harris(frames[0]),\n\u001b[0m\u001b[1;32m      5\u001b[0m                        \u001b[0mexclude_border\u001b[0m\u001b[0;34m=\u001b[0m\u001b[0;36m10\u001b[0m\u001b[0;34m,\u001b[0m\u001b[0;34m\u001b[0m\u001b[0;34m\u001b[0m\u001b[0m\n\u001b[1;32m      6\u001b[0m                        threshold_rel=0.005)\n",
      "\u001b[0;31mNameError\u001b[0m: name 'frames' is not defined"
     ]
    }
   ],
   "source": [
    "from skimage import filters\n",
    "from skimage.feature import corner_harris, corner_peaks\n",
    "\n",
    "keypoints = corner_peaks(corner_harris(frames[0]),\n",
    "                       exclude_border=10,\n",
    "                       threshold_rel=0.005)\n",
    "plt.figure(figsize=(10,12))\n",
    "plt.imshow(frames[0])\n",
    "plt.scatter(keypoints[:,1],keypoints[:,0],facecolor='none',edgecolors='r')\n",
    "plt.axis('off')\n",
    "plt.show()"
   ]
  },
  {
   "cell_type": "code",
   "execution_count": null,
   "metadata": {},
   "outputs": [],
   "source": [
    "def lucas_kanade(im1,im2,keypoints,window_size=5):\n",
    "    assert window_size %2==1,'window size must be an odd number'\n",
    "    flow_vectors=[]\n",
    "    w=window_size//2\n",
    "    \n",
    "    Iy,Ix=np.gradient(im1)\n",
    "    It=im2-im1\n",
    "    for y,x in keypoints:\n",
    "        y, x =int(round(y)),int(round(x))\n",
    "        A1 = Ix[y-w: y+w+1, x-w: x+w+1]\n",
    "        A2 = Iy[y-w: y+w+1, x-w: x+w+1]\n",
    "        A = np.c_[A1.reshape(-1,1), A2.reshape(-1,1)]\n",
    "        b = -It[y-w: y+w+1, x-w: x+w+1].reshape(-1,1)\n",
    "        d = np.dot(np.linalg.inv(A.T.dot(A)), A.T.dot(b))\n",
    "        flow_vectors.append(d.flatten())\n",
    "    flow_vectors=np.array(flow_vectors)\n",
    "    #code\n",
    "    \n",
    "    return flow_vectors\n",
    "\n",
    "flow_vectors=lucas_kanade(frames[0],frames[1],keypoints,window_size=5)\n",
    "plt.figure(figsize=(15,12))\n",
    "plt.imshow(frames[0])\n",
    "plt.axis('off')\n",
    "plt.title('optical flow')\n",
    "\n",
    "for y,x,vy,vx in np.hstack((keypoints,flow_vectors)):\n",
    "    plt.arrow(x,y,vx,vy,head_width=3,head_length=5,color='y')"
   ]
  },
  {
   "cell_type": "markdown",
   "metadata": {},
   "source": [
    "## 1.3 iterative Lucas-Kanande method \n",
    "\n",
    "p is a pixel on frame I, the goal is to find the flow vector(velocity):\n",
    "\n",
    "$v =[v_{x}  \\quad v_{y} ]^{T}$  such that p+v is the corresponding point on the next frame J\n",
    "\n",
    "\n",
    "1.3.1 Initialize flow vector:\n",
    "$$\n",
    "v=\\left[\\begin{array}{l}\n",
    "0 \\\\\n",
    "0\n",
    "\\end{array}\\right]\n",
    "$$\n",
    "1.3.2 Compute spatial gradient matrix:\n",
    "$$\n",
    "G =(A^{T}A)\\\\\n",
    "G=\\sum_{x=p_{x}-w}^{p_{x}+w} \\sum_{y=p_{y}-w}^{p_{y}+w}\\left[\\begin{array}{cc}\n",
    "I_{x}^{2}(x, y) & I_{x}(x, y) I_{y}(x, y) \\\\\n",
    "I_{x}(x, y) I_{y}(x, y) & I_{y}^{2}(x, y)\n",
    "\\end{array}\\right]\\\\\n",
    "$$\n",
    "\n",
    "for $k=1$ to $K$\n",
    "\n",
    "1.3.3 Compute temporal difference: $\\delta I_{k}(x, y)=I(x, y)-J\\left(x+g_{x}+v_{x}, y+g_{y}+v_{y}\\right)$\n",
    "\n",
    "\n",
    "1.3.4 Compute image mismatch vector:\n",
    "\n",
    "$$\n",
    "b_{k}= A^{T}b\\\\\n",
    "\\\\\n",
    "b_{k}=\\sum_{x=p_{x}-w}^{p_{x}+w} \\sum_{y=p_{y}-w}^{p_{y}+w}\\left[\\begin{array}{l}\n",
    "\\delta I_{k}(x, y) I_{x}(x, y) \\\\\n",
    "\\delta I_{k}(x, y) I_{y}(x, y)\n",
    "\\end{array}\\right]\\\\\n",
    "$$\n",
    "1.3.5 Compute optical flow: $v^{k}=G^{-1} b_{k}$\n",
    "\n",
    "Update flow vector for next iteration: $v:=v+v^{k}$\n",
    "\n",
    "Return $v$  \n"
   ]
  },
  {
   "cell_type": "code",
   "execution_count": 10,
   "metadata": {},
   "outputs": [
    {
     "ename": "SyntaxError",
     "evalue": "invalid syntax (<ipython-input-10-84e80d639884>, line 1)",
     "output_type": "error",
     "traceback": [
      "\u001b[0;36m  File \u001b[0;32m\"<ipython-input-10-84e80d639884>\"\u001b[0;36m, line \u001b[0;32m1\u001b[0m\n\u001b[0;31m    def iterative_lucas_kanade((frames[0], frames[1], keypoints)\u001b[0m\n\u001b[0m                               ^\u001b[0m\n\u001b[0;31mSyntaxError\u001b[0m\u001b[0;31m:\u001b[0m invalid syntax\n"
     ]
    }
   ],
   "source": [
    "def iterative_lucas_kanade((im1, im2, keypoints,\n",
    "                            window_size=9,\n",
    "                            num_iters=7,g=None):\n",
    "        if g is None:\n",
    "        g = np.zeros(keypoints.shape)\n",
    "\n",
    "        flow_vectors = []\n",
    "        w = window_size // 2\n",
    "        Iy,Ix =np.gradient(im1)\n",
    "        It=img2-img1\n",
    "                           \n",
    "        for y,x,gy,gx in np.hstack((keypoints,g)):\n",
    "            v=np.zeros(2)\n",
    "            yi, xi = int(round(y)), int(round(x))\n",
    "            \n",
    "            A1=Ix[yi-w:yi+w+1, xi-w:xi+w+1]\n",
    "            A2=Iy[yi-w:yi+w+1, xi-w:xi+w+1]   \n",
    "            G = np.array([[np.sum(A1**2), np.sum(A1*A2)], [np.sum(A1*A2), np.sum(A2**2)]])\n",
    "            invG = np.linalg.inv(G)               \n",
    "        flow_vectors = np.array(flow_vectors)\n",
    "\n",
    "    return flow_vectors   \n",
    "                           \n",
    "                       \n",
    "                           \n",
    "# Plot flow vectors\n",
    "plt.figure(figsize=(15,12))\n",
    "plt.imshow(frames[0])\n",
    "plt.axis('off')\n",
    "plt.title('Optical flow vectors (iterative LK)')\n",
    "\n",
    "for y, x, vy, vx in np.hstack((keypoints, flow_vectors)):\n",
    "    plt.arrow(x, y, vx, vy, head_width=5, head_length=5, color='b')"
   ]
  },
  {
   "cell_type": "code",
   "execution_count": null,
   "metadata": {},
   "outputs": [],
   "source": []
  },
  {
   "cell_type": "code",
   "execution_count": null,
   "metadata": {},
   "outputs": [],
   "source": []
  }
 ],
 "metadata": {
  "kernelspec": {
   "display_name": "Python 3",
   "language": "python",
   "name": "python3"
  },
  "language_info": {
   "codemirror_mode": {
    "name": "ipython",
    "version": 3
   },
   "file_extension": ".py",
   "mimetype": "text/x-python",
   "name": "python",
   "nbconvert_exporter": "python",
   "pygments_lexer": "ipython3",
   "version": "3.7.6"
  }
 },
 "nbformat": 4,
 "nbformat_minor": 2
}
